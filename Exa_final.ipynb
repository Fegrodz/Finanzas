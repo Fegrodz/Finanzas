{
 "cells": [
  {
   "cell_type": "markdown",
   "metadata": {},
   "source": [
    "#### EXAMEN FINAL\n",
    "Data Science and Machine Learning Applied to Financial Markets\n",
    "##### Módulo V\n"
   ]
  },
  {
   "cell_type": "markdown",
   "metadata": {},
   "source": [
    "El objetivo del examen final es construir un portafolio riesgoso con 7 acciones e invertir en un\n",
    "portafolio completo que maximice tu utilidad. Considera una tasa libre de riesgo de 5.0%, un premio\n",
    "por riesgo de mercado de 10.0% y un nivel de aversión al riesgo A=3.\n",
    "\n",
    "Para las 7 acciones seleccionadas, calcula: \n",
    "\n",
    "1. Rendimiento esperado diario y anual bajo los siguientes modelos: "
   ]
  },
  {
   "cell_type": "markdown",
   "metadata": {},
   "source": [
    "a. Modelo de rendimiento promedio constante "
   ]
  },
  {
   "cell_type": "code",
   "execution_count": 1,
   "metadata": {},
   "outputs": [],
   "source": [
    "# Bibliotecas usadas en el notebook\n",
    "import numpy as np\n",
    "import pandas as pd\n",
    "import matplotlib.pyplot as plt\n",
    "import seaborn as sns\n",
    "from numpy.random import randn, seed, random\n",
    "from scipy.optimize import minimize"
   ]
  },
  {
   "cell_type": "code",
   "execution_count": 42,
   "metadata": {},
   "outputs": [],
   "source": [
    "#market.iloc[:,:]"
   ]
  },
  {
   "cell_type": "code",
   "execution_count": 45,
   "metadata": {},
   "outputs": [
    {
     "data": {
      "text/html": [
       "<div>\n",
       "<style scoped>\n",
       "    .dataframe tbody tr th:only-of-type {\n",
       "        vertical-align: middle;\n",
       "    }\n",
       "\n",
       "    .dataframe tbody tr th {\n",
       "        vertical-align: top;\n",
       "    }\n",
       "\n",
       "    .dataframe thead th {\n",
       "        text-align: right;\n",
       "    }\n",
       "</style>\n",
       "<table border=\"1\" class=\"dataframe\">\n",
       "  <thead>\n",
       "    <tr style=\"text-align: right;\">\n",
       "      <th></th>\n",
       "      <th>GAPB</th>\n",
       "      <th>CEMEXCPO</th>\n",
       "      <th>ELEKTRA*</th>\n",
       "      <th>TLEVICPO</th>\n",
       "      <th>PE&amp;OLES*</th>\n",
       "      <th>BIMBOA</th>\n",
       "      <th>GCARSOA1</th>\n",
       "    </tr>\n",
       "    <tr>\n",
       "      <th>DATE</th>\n",
       "      <th></th>\n",
       "      <th></th>\n",
       "      <th></th>\n",
       "      <th></th>\n",
       "      <th></th>\n",
       "      <th></th>\n",
       "      <th></th>\n",
       "    </tr>\n",
       "  </thead>\n",
       "  <tbody>\n",
       "    <tr>\n",
       "      <th>2016-01-01</th>\n",
       "      <td>152.05</td>\n",
       "      <td>8.72</td>\n",
       "      <td>379.04</td>\n",
       "      <td>94.34</td>\n",
       "      <td>177.22</td>\n",
       "      <td>45.95</td>\n",
       "      <td>70.98</td>\n",
       "    </tr>\n",
       "    <tr>\n",
       "      <th>2016-01-04</th>\n",
       "      <td>148.57</td>\n",
       "      <td>8.43</td>\n",
       "      <td>368.42</td>\n",
       "      <td>92.62</td>\n",
       "      <td>175.90</td>\n",
       "      <td>45.02</td>\n",
       "      <td>69.83</td>\n",
       "    </tr>\n",
       "    <tr>\n",
       "      <th>2016-01-05</th>\n",
       "      <td>147.93</td>\n",
       "      <td>8.31</td>\n",
       "      <td>357.30</td>\n",
       "      <td>91.89</td>\n",
       "      <td>176.45</td>\n",
       "      <td>45.77</td>\n",
       "      <td>70.70</td>\n",
       "    </tr>\n",
       "    <tr>\n",
       "      <th>2016-01-06</th>\n",
       "      <td>146.99</td>\n",
       "      <td>8.29</td>\n",
       "      <td>342.66</td>\n",
       "      <td>90.41</td>\n",
       "      <td>172.68</td>\n",
       "      <td>45.97</td>\n",
       "      <td>70.47</td>\n",
       "    </tr>\n",
       "    <tr>\n",
       "      <th>2016-01-07</th>\n",
       "      <td>141.32</td>\n",
       "      <td>7.64</td>\n",
       "      <td>334.15</td>\n",
       "      <td>90.23</td>\n",
       "      <td>172.94</td>\n",
       "      <td>46.18</td>\n",
       "      <td>68.15</td>\n",
       "    </tr>\n",
       "  </tbody>\n",
       "</table>\n",
       "</div>"
      ],
      "text/plain": [
       "              GAPB  CEMEXCPO  ELEKTRA*  TLEVICPO  PE&OLES*  BIMBOA  GCARSOA1\n",
       "DATE                                                                        \n",
       "2016-01-01  152.05      8.72    379.04     94.34    177.22   45.95     70.98\n",
       "2016-01-04  148.57      8.43    368.42     92.62    175.90   45.02     69.83\n",
       "2016-01-05  147.93      8.31    357.30     91.89    176.45   45.77     70.70\n",
       "2016-01-06  146.99      8.29    342.66     90.41    172.68   45.97     70.47\n",
       "2016-01-07  141.32      7.64    334.15     90.23    172.94   46.18     68.15"
      ]
     },
     "execution_count": 45,
     "metadata": {},
     "output_type": "execute_result"
    }
   ],
   "source": [
    "# Cargamos la base de acciones y elegimos aleatoriamente 7 acciones de esta misma base\n",
    "market = pd.read_excel(\"Prueba.xlsx\", index_col=0)\n",
    "market.columns = [c.replace(\" MF Equity\", \"\") for c in market.columns]\n",
    "porfolio = market.iloc[:,:-1].sample(7, axis=1)\n",
    "porfolio_mexind = pd.concat([ porfolio, market[['MEXBOL INDEX']] ], axis=1)\n",
    "porfolio.head()"
   ]
  },
  {
   "cell_type": "code",
   "execution_count": 46,
   "metadata": {},
   "outputs": [
    {
     "name": "stdout",
     "output_type": "stream",
     "text": [
      "Rendimiento medio esperado diario para cada activo: \n",
      " GAPB        0.000507\n",
      "CEMEXCPO    0.000020\n",
      "ELEKTRA*    0.001455\n",
      "TLEVICPO   -0.000547\n",
      "PE&OLES*    0.000441\n",
      "BIMBOA     -0.000132\n",
      "GCARSOA1    0.000224\n",
      "dtype: float64\n",
      "\n",
      " Rendimiento medio esperado anual para cada activo (considerando los 252 días hábiles del año): \n",
      "  GAPB        0.127830\n",
      "CEMEXCPO    0.005054\n",
      "ELEKTRA*    0.366774\n",
      "TLEVICPO   -0.137916\n",
      "PE&OLES*    0.111053\n",
      "BIMBOA     -0.033289\n",
      "GCARSOA1    0.056460\n",
      "dtype: float64\n",
      " \n",
      " los poderadores constantes son:  [0.32882943 0.18372846 0.04787931 0.02525513 0.16238325 0.08946459\n",
      " 0.16245982]\n",
      "El rendimiento esperado de un portafolio es un promedio ponderado de los rendimientos en cada uno de sus acciones. \n",
      "  CASO DIARIO, E_r : 0.0003224923525936205\n",
      "CASO ANUALIZADO, E_r : 0.08126807285359236\n"
     ]
    }
   ],
   "source": [
    "# Para el modelo de rendimiento promedio constante \n",
    "# Hacemos el cambio a terminos porcentuales\n",
    "rend = porfolio.pct_change().dropna()\n",
    "r_diario = rend.mean()\n",
    "print(\"Rendimiento medio esperado diario para cada activo: \\n\", r_diario)\n",
    "r_s = rend.mean()*252\n",
    "print(\"\\n Rendimiento medio esperado anual para cada activo (considerando los 252 días hábiles del año): \\n \",  r_s)\n",
    "# Generación de ponderadores aleatorios\n",
    "#seed(314)\n",
    "w = random(size=7)\n",
    "w = w / w.sum()\n",
    "print(\" \\n los poderadores constantes son: \", w)\n",
    "E_r = np.dot(w, r_diario)\n",
    "print(\"El rendimiento esperado de un portafolio es un promedio ponderado \\\n",
    "de los rendimientos en cada uno de sus acciones. \\n  CASO DIARIO, E_r :\", E_r)\n",
    "E_r = np.dot(w, r_s)\n",
    "print(\"CASO ANUALIZADO, E_r :\", E_r)"
   ]
  },
  {
   "cell_type": "markdown",
   "metadata": {},
   "source": [
    "b. Modelo CAPM\n",
    "\n",
    "i. ¿Cuál es la beta de cada acción?\n",
    "\n",
    "ii. Clasifica las acciones en defensivas y agresiva"
   ]
  },
  {
   "cell_type": "code",
   "execution_count": 47,
   "metadata": {},
   "outputs": [],
   "source": [
    "# Calculamos las betas del portafolio\n",
    "rets = porfolio_mexind.pct_change().dropna()\n",
    "Phi = rets.iloc[:, :-1].values\n",
    "t = rets.iloc[:, [-1]]\n",
    "N, M = Phi.shape\n",
    "\n",
    "I = np.concatenate([np.identity(M)] * 2, axis=1)\n",
    "I = np.concatenate([I] * 2, axis=0)\n",
    "\n",
    "P = np.ones((N, M))\n",
    "P = np.c_[P, Phi]"
   ]
  },
  {
   "cell_type": "code",
   "execution_count": 48,
   "metadata": {},
   "outputs": [],
   "source": [
    "W = np.linalg.inv((P.T @ P) * I) @ P.T @ t\n",
    "W[\"security\"]  = np.concatenate([rets.columns[:-1]] * 2)\n",
    "W[\"param\"] = [\"alpha\"] * M + [\"beta\"] * M\n",
    "B = W.pivot_table(index=\"security\", columns=\"param\", values=\"MEXBOL INDEX\")"
   ]
  },
  {
   "cell_type": "code",
   "execution_count": 49,
   "metadata": {},
   "outputs": [
    {
     "data": {
      "text/html": [
       "<div>\n",
       "<style scoped>\n",
       "    .dataframe tbody tr th:only-of-type {\n",
       "        vertical-align: middle;\n",
       "    }\n",
       "\n",
       "    .dataframe tbody tr th {\n",
       "        vertical-align: top;\n",
       "    }\n",
       "\n",
       "    .dataframe thead th {\n",
       "        text-align: right;\n",
       "    }\n",
       "</style>\n",
       "<table border=\"1\" class=\"dataframe\">\n",
       "  <thead>\n",
       "    <tr style=\"text-align: right;\">\n",
       "      <th>param</th>\n",
       "      <th>alpha</th>\n",
       "      <th>beta</th>\n",
       "    </tr>\n",
       "    <tr>\n",
       "      <th>security</th>\n",
       "      <th></th>\n",
       "      <th></th>\n",
       "    </tr>\n",
       "  </thead>\n",
       "  <tbody>\n",
       "    <tr>\n",
       "      <th>GAPB</th>\n",
       "      <td>-0.000072</td>\n",
       "      <td>0.282531</td>\n",
       "    </tr>\n",
       "    <tr>\n",
       "      <th>BIMBOA</th>\n",
       "      <td>0.000108</td>\n",
       "      <td>0.273451</td>\n",
       "    </tr>\n",
       "    <tr>\n",
       "      <th>CEMEXCPO</th>\n",
       "      <td>0.000066</td>\n",
       "      <td>0.251091</td>\n",
       "    </tr>\n",
       "    <tr>\n",
       "      <th>GCARSOA1</th>\n",
       "      <td>0.000024</td>\n",
       "      <td>0.212667</td>\n",
       "    </tr>\n",
       "    <tr>\n",
       "      <th>TLEVICPO</th>\n",
       "      <td>0.000180</td>\n",
       "      <td>0.198514</td>\n",
       "    </tr>\n",
       "    <tr>\n",
       "      <th>PE&amp;OLES*</th>\n",
       "      <td>0.000013</td>\n",
       "      <td>0.132759</td>\n",
       "    </tr>\n",
       "    <tr>\n",
       "      <th>ELEKTRA*</th>\n",
       "      <td>-0.000019</td>\n",
       "      <td>0.062163</td>\n",
       "    </tr>\n",
       "  </tbody>\n",
       "</table>\n",
       "</div>"
      ],
      "text/plain": [
       "param        alpha      beta\n",
       "security                    \n",
       "GAPB     -0.000072  0.282531\n",
       "BIMBOA    0.000108  0.273451\n",
       "CEMEXCPO  0.000066  0.251091\n",
       "GCARSOA1  0.000024  0.212667\n",
       "TLEVICPO  0.000180  0.198514\n",
       "PE&OLES*  0.000013  0.132759\n",
       "ELEKTRA* -0.000019  0.062163"
      ]
     },
     "execution_count": 49,
     "metadata": {},
     "output_type": "execute_result"
    }
   ],
   "source": [
    "B.sort_values(\"beta\", ascending=False)"
   ]
  },
  {
   "cell_type": "markdown",
   "metadata": {},
   "source": [
    "Podemos notar que con respecto al MEXBOL, las acciones son defensivas debido a que su beta es menor a 1 para todas las acciones"
   ]
  },
  {
   "cell_type": "markdown",
   "metadata": {},
   "source": [
    "2. Matriz varianza-covarianza"
   ]
  },
  {
   "cell_type": "code",
   "execution_count": 50,
   "metadata": {},
   "outputs": [
    {
     "data": {
      "text/html": [
       "<div>\n",
       "<style scoped>\n",
       "    .dataframe tbody tr th:only-of-type {\n",
       "        vertical-align: middle;\n",
       "    }\n",
       "\n",
       "    .dataframe tbody tr th {\n",
       "        vertical-align: top;\n",
       "    }\n",
       "\n",
       "    .dataframe thead th {\n",
       "        text-align: right;\n",
       "    }\n",
       "</style>\n",
       "<table border=\"1\" class=\"dataframe\">\n",
       "  <thead>\n",
       "    <tr style=\"text-align: right;\">\n",
       "      <th></th>\n",
       "      <th>GAPB</th>\n",
       "      <th>CEMEXCPO</th>\n",
       "      <th>ELEKTRA*</th>\n",
       "      <th>TLEVICPO</th>\n",
       "      <th>PE&amp;OLES*</th>\n",
       "      <th>BIMBOA</th>\n",
       "      <th>GCARSOA1</th>\n",
       "    </tr>\n",
       "  </thead>\n",
       "  <tbody>\n",
       "    <tr>\n",
       "      <th>GAPB</th>\n",
       "      <td>0.000233</td>\n",
       "      <td>0.000070</td>\n",
       "      <td>0.000017</td>\n",
       "      <td>0.000044</td>\n",
       "      <td>0.000059</td>\n",
       "      <td>0.000052</td>\n",
       "      <td>0.000068</td>\n",
       "    </tr>\n",
       "    <tr>\n",
       "      <th>CEMEXCPO</th>\n",
       "      <td>0.000070</td>\n",
       "      <td>0.000411</td>\n",
       "      <td>0.000021</td>\n",
       "      <td>0.000109</td>\n",
       "      <td>0.000101</td>\n",
       "      <td>0.000079</td>\n",
       "      <td>0.000101</td>\n",
       "    </tr>\n",
       "    <tr>\n",
       "      <th>ELEKTRA*</th>\n",
       "      <td>0.000017</td>\n",
       "      <td>0.000021</td>\n",
       "      <td>0.000428</td>\n",
       "      <td>0.000019</td>\n",
       "      <td>0.000022</td>\n",
       "      <td>0.000035</td>\n",
       "      <td>0.000053</td>\n",
       "    </tr>\n",
       "    <tr>\n",
       "      <th>TLEVICPO</th>\n",
       "      <td>0.000044</td>\n",
       "      <td>0.000109</td>\n",
       "      <td>0.000019</td>\n",
       "      <td>0.000313</td>\n",
       "      <td>0.000053</td>\n",
       "      <td>0.000057</td>\n",
       "      <td>0.000048</td>\n",
       "    </tr>\n",
       "    <tr>\n",
       "      <th>PE&amp;OLES*</th>\n",
       "      <td>0.000059</td>\n",
       "      <td>0.000101</td>\n",
       "      <td>0.000022</td>\n",
       "      <td>0.000053</td>\n",
       "      <td>0.000548</td>\n",
       "      <td>0.000088</td>\n",
       "      <td>0.000101</td>\n",
       "    </tr>\n",
       "    <tr>\n",
       "      <th>BIMBOA</th>\n",
       "      <td>0.000052</td>\n",
       "      <td>0.000079</td>\n",
       "      <td>0.000035</td>\n",
       "      <td>0.000057</td>\n",
       "      <td>0.000088</td>\n",
       "      <td>0.000237</td>\n",
       "      <td>0.000097</td>\n",
       "    </tr>\n",
       "    <tr>\n",
       "      <th>GCARSOA1</th>\n",
       "      <td>0.000068</td>\n",
       "      <td>0.000101</td>\n",
       "      <td>0.000053</td>\n",
       "      <td>0.000048</td>\n",
       "      <td>0.000101</td>\n",
       "      <td>0.000097</td>\n",
       "      <td>0.000361</td>\n",
       "    </tr>\n",
       "  </tbody>\n",
       "</table>\n",
       "</div>"
      ],
      "text/plain": [
       "              GAPB  CEMEXCPO  ELEKTRA*  TLEVICPO  PE&OLES*    BIMBOA  GCARSOA1\n",
       "GAPB      0.000233  0.000070  0.000017  0.000044  0.000059  0.000052  0.000068\n",
       "CEMEXCPO  0.000070  0.000411  0.000021  0.000109  0.000101  0.000079  0.000101\n",
       "ELEKTRA*  0.000017  0.000021  0.000428  0.000019  0.000022  0.000035  0.000053\n",
       "TLEVICPO  0.000044  0.000109  0.000019  0.000313  0.000053  0.000057  0.000048\n",
       "PE&OLES*  0.000059  0.000101  0.000022  0.000053  0.000548  0.000088  0.000101\n",
       "BIMBOA    0.000052  0.000079  0.000035  0.000057  0.000088  0.000237  0.000097\n",
       "GCARSOA1  0.000068  0.000101  0.000053  0.000048  0.000101  0.000097  0.000361"
      ]
     },
     "execution_count": 50,
     "metadata": {},
     "output_type": "execute_result"
    }
   ],
   "source": [
    "rend.cov()"
   ]
  },
  {
   "cell_type": "markdown",
   "metadata": {},
   "source": [
    "Utilizando los rendimientos esperados bajo el modelo CAPM, construye:\n",
    "\n",
    "3. Frontera de carteras de mínima varianza y frontera eficiente / graficar\n",
    "\n",
    "4. Encuentra el portafolio riesgoso óptimo (maximiza el coeficiente de Sharpe)\n",
    "\n",
    "5. Elige los porcentajes a invertir en el portafolio riesgoso óptimo y el activo libre de riesgo "
   ]
  },
  {
   "cell_type": "code",
   "execution_count": 51,
   "metadata": {},
   "outputs": [],
   "source": [
    "def port_rend(weights, r):\n",
    "    E_p = (r.mean() @ weights) * 252\n",
    "    return E_p\n",
    "\n",
    "def port_vol(weights, r):\n",
    "    S_p = np.sqrt(weights.T @ (r.cov() * 252) @ weights)\n",
    "    return S_p"
   ]
  },
  {
   "cell_type": "code",
   "execution_count": 52,
   "metadata": {},
   "outputs": [
    {
     "data": {
      "text/plain": [
       "(0.08126807285359236, 0.17519544768326026)"
      ]
     },
     "execution_count": 52,
     "metadata": {},
     "output_type": "execute_result"
    }
   ],
   "source": [
    "port_rend(w, rend), port_vol(w, rend)"
   ]
  },
  {
   "cell_type": "code",
   "execution_count": 53,
   "metadata": {},
   "outputs": [],
   "source": [
    "weights_sim = np.random.random((5000, 7))\n",
    "weights_sim = weights_sim / weights_sim.sum(axis=1, keepdims=True)\n",
    "\n",
    "rend_sim = np.apply_along_axis(port_rend, 1, weights_sim, r=rend)\n",
    "vol_sim = np.apply_along_axis(port_vol, 1, weights_sim, r=rend)"
   ]
  },
  {
   "cell_type": "code",
   "execution_count": 54,
   "metadata": {},
   "outputs": [
    {
     "data": {
      "image/png": "[encoded data removed]",
      "text/plain": [
       "<Figure size 432x288 with 2 Axes>"
      ]
     },
     "metadata": {
      "needs_background": "light"
     },
     "output_type": "display_data"
    }
   ],
   "source": [
    "sharpe_ratio = rend_sim / vol_sim\n",
    "plt.scatter(vol_sim, rend_sim, c=sharpe_ratio)\n",
    "plt.colorbar(label=\"Sharpe Ratio\")\n",
    "plt.xlabel(r\"$\\sigma^2_r$\", fontsize=13)\n",
    "plt.ylabel(\"E(r)\", fontsize=13);"
   ]
  },
  {
   "cell_type": "code",
   "execution_count": 55,
   "metadata": {},
   "outputs": [
    {
     "data": {
      "text/plain": [
       "     fun: 0.15398953960492356\n",
       "     jac: array([0.15414654, 0.15375769, 0.15399159, 0.15399766, 0.15398075,\n",
       "       0.15391804, 0.153799  ])\n",
       " message: 'Optimization terminated successfully.'\n",
       "    nfev: 100\n",
       "     nit: 11\n",
       "    njev: 11\n",
       "  status: 0\n",
       " success: True\n",
       "       x: array([0.258938  , 0.05678247, 0.17012606, 0.17551168, 0.06396563,\n",
       "       0.19861849, 0.07605768])"
      ]
     },
     "execution_count": 55,
     "metadata": {},
     "output_type": "execute_result"
    }
   ],
   "source": [
    "# Creamos la frontera eficiente\n",
    "from scipy.optimize import minimize\n",
    "\n",
    "N, M = rend.shape\n",
    "w0  = np.random.randn(M)\n",
    "\n",
    "def sum_weights(weights):\n",
    "    return weights.sum() - 1 # == 0\n",
    "\n",
    "constraints = [\n",
    "    {\"type\": \"eq\", \"fun\": sum_weights}\n",
    "]\n",
    "\n",
    "port0 = minimize(port_vol, w0, constraints=constraints, args=rend)\n",
    "port0"
   ]
  },
  {
   "cell_type": "code",
   "execution_count": 56,
   "metadata": {},
   "outputs": [
    {
     "data": {
      "text/plain": [
       "(0.07636485028137338, 0.15398953960492356)"
      ]
     },
     "execution_count": 56,
     "metadata": {},
     "output_type": "execute_result"
    }
   ],
   "source": [
    "# En este caso el elemento que minimiza la varianza es wp0\n",
    "wp0 = port0.x\n",
    "port_rend(wp0, rend), port_vol(wp0, rend)"
   ]
  },
  {
   "cell_type": "code",
   "execution_count": 57,
   "metadata": {},
   "outputs": [
    {
     "data": {
      "image/png": "[encoded data removed]",
      "text/plain": [
       "<Figure size 432x288 with 2 Axes>"
      ]
     },
     "metadata": {
      "needs_background": "light"
     },
     "output_type": "display_data"
    }
   ],
   "source": [
    "sharpe_ratio = rend_sim / vol_sim\n",
    "plt.scatter(vol_sim, rend_sim, c=sharpe_ratio)\n",
    "plt.scatter(port_vol(wp0, rend), port_rend(wp0, rend))\n",
    "plt.colorbar(label=\"Sharpe Ratio\")\n",
    "plt.xlabel(r\"$\\sigma^2_r$\", fontsize=13)\n",
    "plt.ylabel(\"E(r)\", fontsize=13);"
   ]
  },
  {
   "cell_type": "code",
   "execution_count": 61,
   "metadata": {},
   "outputs": [],
   "source": [
    "r_min = port_rend(wp0, rend)\n",
    "r_max = r_s.max()\n",
    "\n",
    "rend_max = np.linspace(r_min, r_max)\n",
    "\n",
    "def rend_esperado(w, E):\n",
    "    return port_rend(w, rend) - E # == 0\n",
    "\n",
    "e0 = 0.1\n",
    "constraints = [\n",
    "    {\"type\": \"eq\", \"fun\": sum_weights},\n",
    "    {\"type\": \"eq\", \"fun\": lambda w: rend_esperado(w, e0)}\n",
    "]"
   ]
  },
  {
   "cell_type": "code",
   "execution_count": 62,
   "metadata": {},
   "outputs": [],
   "source": [
    "pesos_optimos = []\n",
    "for e in rend_max:\n",
    "    constraints = [\n",
    "        {\"type\": \"eq\", \"fun\": sum_weights},\n",
    "        {\"type\": \"eq\", \"fun\": lambda w: rend_esperado(w, e)}\n",
    "    ]\n",
    "\n",
    "    port1 = minimize(port_vol, w0, constraints=constraints, args=rend)\n",
    "    w_opt = port1.x\n",
    "    pesos_optimos.append(w_opt)"
   ]
  },
  {
   "cell_type": "code",
   "execution_count": 63,
   "metadata": {},
   "outputs": [
    {
     "data": {
      "text/plain": [
       "<matplotlib.colorbar.Colorbar at 0x189cbdc4208>"
      ]
     },
     "execution_count": 63,
     "metadata": {},
     "output_type": "execute_result"
    },
    {
     "data": {
      "image/png": "[encoded data removed]",
      "text/plain": [
       "<Figure size 432x288 with 2 Axes>"
      ]
     },
     "metadata": {
      "needs_background": "light"
     },
     "output_type": "display_data"
    }
   ],
   "source": [
    "r_opt = []\n",
    "v_opt = []\n",
    "for w in pesos_optimos:\n",
    "    r_opt.append(port_rend(w, rend))\n",
    "    v_opt.append(port_vol(w, rend))\n",
    "\n",
    "r_opt = np.array(r_opt)\n",
    "v_opt = np.array(v_opt)\n",
    "\n",
    "plt.scatter(v_opt, r_opt, c=r_opt)\n",
    "plt.colorbar()"
   ]
  },
  {
   "cell_type": "markdown",
   "metadata": {},
   "source": [
    "Maximizamos el coeficiente de Sharp usando una tasa libre de riesgo del 5%"
   ]
  },
  {
   "cell_type": "code",
   "execution_count": 64,
   "metadata": {},
   "outputs": [],
   "source": [
    "rf = 0.05\n",
    "\n",
    "def min_func_sharpe(weights):\n",
    "    return - (port_rend(weights, rend) - rf) / port_vol(weights, rend)\n",
    "\n",
    "constraints = [\n",
    "    {\"type\": \"eq\", \"fun\": sum_weights}\n",
    "]\n",
    "\n",
    "f_sharpe = minimize(min_func_sharpe, w0, constraints=constraints)"
   ]
  },
  {
   "cell_type": "code",
   "execution_count": 65,
   "metadata": {},
   "outputs": [],
   "source": [
    "w_sharpe = f_sharpe.x"
   ]
  },
  {
   "cell_type": "code",
   "execution_count": 66,
   "metadata": {},
   "outputs": [
    {
     "data": {
      "text/plain": [
       "<matplotlib.legend.Legend at 0x189cbb26ac8>"
      ]
     },
     "execution_count": 66,
     "metadata": {},
     "output_type": "execute_result"
    },
    {
     "data": {
      "image/png": "[encoded data removed]",
      "text/plain": [
       "<Figure size 432x288 with 1 Axes>"
      ]
     },
     "metadata": {
      "needs_background": "light"
     },
     "output_type": "display_data"
    }
   ],
   "source": [
    "e_sharpe = port_rend(w_sharpe, rend)\n",
    "vol_sharpe = port_vol(w_sharpe, rend)\n",
    "\n",
    "sigma_c =  np.linspace(0, 0.25)\n",
    "sharpe = rf + sigma_c * (e_sharpe - rf) / vol_sharpe\n",
    "\n",
    "plt.plot(sigma_c, sharpe, linestyle=\"--\", c=\"tab:orange\", label=\"Capital Allocation Line\")\n",
    "plt.plot(v_opt, r_opt)\n",
    "plt.legend(fontsize=12)"
   ]
  },
  {
   "cell_type": "code",
   "execution_count": null,
   "metadata": {},
   "outputs": [],
   "source": []
  },
  {
   "cell_type": "markdown",
   "metadata": {},
   "source": [
    "### Deep Learning:\n",
    "\n",
    "6. ¿En qué escenarios ocuparías una red neuronal?"
   ]
  },
  {
   "cell_type": "markdown",
   "metadata": {},
   "source": [
    "Cuando el tamaño del conjunto de datos con el que se está trabajando es muy grande o complejo como para poder ser tratado con un modelo de machine learning tradicional de manera eficiente. Usualmente también podríamos pensar en usar redes neuronales artificiales si contamos con la infraestructura adecuada y/o sí se está buscando una solución más adecuada o precisa para un problema de gran complejidad."
   ]
  },
  {
   "cell_type": "markdown",
   "metadata": {},
   "source": [
    "7. ¿En qué escenarios no ocuparías una red neuronal?"
   ]
  },
  {
   "cell_type": "markdown",
   "metadata": {},
   "source": [
    "Cuando el conjunto de datos no es tan grande y se puede abordar facilmente con un problema de machine learning tradicional. También si el problema en cuestión no requiere de gran poder de computo para poder hallar los parámetros del modelo, o inclusive si se busca ahorrar recursos y aún así obtener sin tanto esfuerzo un buen resultado para entrenamiento no supervisado y/o supervisado."
   ]
  },
  {
   "cell_type": "markdown",
   "metadata": {},
   "source": [
    "8. Menciona tres funciones de activación para una red neuronal feed-forward"
   ]
  },
  {
   "cell_type": "markdown",
   "metadata": {},
   "source": [
    "- Sigmoidal: Función con dominio en $ \\mathbb{R} $ e imagen en $ [0, 1] $\n",
    "\n",
    "- ReLU: Rectified Linear Unit\n",
    "\n",
    "- Tanh: Tangente Hiperbólica"
   ]
  },
  {
   "cell_type": "markdown",
   "metadata": {},
   "source": [
    "9. ¿Qué es el método de backpropagation?"
   ]
  },
  {
   "cell_type": "markdown",
   "metadata": {},
   "source": [
    "Es un algoritmo usado en los modelos de redes neuronales artificiales que hace uso del cálculo de gradientes para lograr el \"entrenamiento\" de la red, o en otras palabras, para lograr encontrar los parámetros que mejor ajusta los pesos de la red neuronal. Consiste en alimentar la red con valores y una vez que llegan a la capa final los parámetros se ajustan \"regresando\" los valores desde la capa de salida hacia las capas anteriores."
   ]
  },
  {
   "cell_type": "markdown",
   "metadata": {},
   "source": [
    "10. ¿En qué difiere una red neuronal feed-forward de una red neuronal convolucional?"
   ]
  },
  {
   "cell_type": "markdown",
   "metadata": {},
   "source": [
    "En que son en escencia dos tipos de redes neuronales que sirven para diferentes propositos. Mientras que la red feedforward es un tipo de red que solo se conecta con los nodos de la capa siguiente (y solo en esa dirección) además de que es un modelo ampliamente usado en términos generales, las redes convolucionales pueden también ser una red feedforward pero con la diferencia de que éstas manejan dentro de sus capas matrices de convolución y son usualmente utilizadas para poder clasificar o trabajar con imágenes."
   ]
  },
  {
   "cell_type": "code",
   "execution_count": null,
   "metadata": {},
   "outputs": [],
   "source": []
  },
  {
   "cell_type": "code",
   "execution_count": null,
   "metadata": {},
   "outputs": [],
   "source": []
  },
  {
   "cell_type": "code",
   "execution_count": null,
   "metadata": {},
   "outputs": [],
   "source": []
  },
  {
   "cell_type": "code",
   "execution_count": null,
   "metadata": {},
   "outputs": [],
   "source": []
  },
  {
   "cell_type": "code",
   "execution_count": null,
   "metadata": {},
   "outputs": [],
   "source": []
  },
  {
   "cell_type": "code",
   "execution_count": null,
   "metadata": {},
   "outputs": [],
   "source": []
  },
  {
   "cell_type": "code",
   "execution_count": null,
   "metadata": {},
   "outputs": [],
   "source": []
  },
  {
   "cell_type": "code",
   "execution_count": null,
   "metadata": {},
   "outputs": [],
   "source": []
  }
 ],
 "metadata": {
  "kernelspec": {
   "display_name": "Python 3",
   "language": "python",
   "name": "python3"
  },
  "language_info": {
   "codemirror_mode": {
    "name": "ipython",
    "version": 3
   },
   "file_extension": ".py",
   "mimetype": "text/x-python",
   "name": "python",
   "nbconvert_exporter": "python",
   "pygments_lexer": "ipython3",
   "version": "3.7.6"
  }
 },
 "nbformat": 4,
 "nbformat_minor": 4
}
