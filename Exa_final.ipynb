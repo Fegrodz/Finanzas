{
 "cells": [
  {
   "cell_type": "markdown",
   "metadata": {},
   "source": [
    "#### EXAMEN FINAL\n",
    "Data Science and Machine Learning Applied to Financial Markets\n",
    "##### Módulo V\n"
   ]
  },
  {
   "cell_type": "markdown",
   "metadata": {},
   "source": [
    "El objetivo del examen final es construir un portafolio riesgoso con 7 acciones e invertir en un\n",
    "portafolio completo que maximice tu utilidad. Considera una tasa libre de riesgo de 5.0%, un premio\n",
    "por riesgo de mercado de 10.0% y un nivel de aversión al riesgo A=3.\n",
    "\n",
    "Para las 7 acciones seleccionadas, calcula: \n",
    "\n",
    "1. Rendimiento esperado diario y anual bajo los siguientes modelos: "
   ]
  },
  {
   "cell_type": "markdown",
   "metadata": {},
   "source": [
    "a. Modelo de rendimiento promedio constante "
   ]
  },
  {
   "cell_type": "code",
   "execution_count": 6,
   "metadata": {},
   "outputs": [],
   "source": [
    "# Bibliotecas usadas en el notebook\n",
    "import numpy as np\n",
    "import pandas as pd\n",
    "import matplotlib.pyplot as plt\n",
    "import seaborn as sns\n",
    "from numpy.random import randn, seed\n",
    "from scipy.optimize import minimize"
   ]
  },
  {
   "cell_type": "code",
   "execution_count": 5,
   "metadata": {},
   "outputs": [
    {
     "data": {
      "text/html": [
       "<div>\n",
       "<style scoped>\n",
       "    .dataframe tbody tr th:only-of-type {\n",
       "        vertical-align: middle;\n",
       "    }\n",
       "\n",
       "    .dataframe tbody tr th {\n",
       "        vertical-align: top;\n",
       "    }\n",
       "\n",
       "    .dataframe thead th {\n",
       "        text-align: right;\n",
       "    }\n",
       "</style>\n",
       "<table border=\"1\" class=\"dataframe\">\n",
       "  <thead>\n",
       "    <tr style=\"text-align: right;\">\n",
       "      <th></th>\n",
       "      <th>GFINBURO</th>\n",
       "      <th>CUERVO*</th>\n",
       "      <th>MEGACPO</th>\n",
       "      <th>CEMEXCPO</th>\n",
       "      <th>TLEVICPO</th>\n",
       "      <th>PE&amp;OLES*</th>\n",
       "      <th>MEXBOL</th>\n",
       "    </tr>\n",
       "    <tr>\n",
       "      <th>DATE</th>\n",
       "      <th></th>\n",
       "      <th></th>\n",
       "      <th></th>\n",
       "      <th></th>\n",
       "      <th></th>\n",
       "      <th></th>\n",
       "      <th></th>\n",
       "    </tr>\n",
       "  </thead>\n",
       "  <tbody>\n",
       "    <tr>\n",
       "      <th>2016-01-01</th>\n",
       "      <td>31.10</td>\n",
       "      <td>NaN</td>\n",
       "      <td>64.19</td>\n",
       "      <td>8.72</td>\n",
       "      <td>94.34</td>\n",
       "      <td>177.22</td>\n",
       "      <td>42977.50</td>\n",
       "    </tr>\n",
       "    <tr>\n",
       "      <th>2016-01-04</th>\n",
       "      <td>29.95</td>\n",
       "      <td>NaN</td>\n",
       "      <td>64.45</td>\n",
       "      <td>8.43</td>\n",
       "      <td>92.62</td>\n",
       "      <td>175.90</td>\n",
       "      <td>42113.70</td>\n",
       "    </tr>\n",
       "    <tr>\n",
       "      <th>2016-01-05</th>\n",
       "      <td>29.60</td>\n",
       "      <td>NaN</td>\n",
       "      <td>63.16</td>\n",
       "      <td>8.31</td>\n",
       "      <td>91.89</td>\n",
       "      <td>176.45</td>\n",
       "      <td>42041.68</td>\n",
       "    </tr>\n",
       "    <tr>\n",
       "      <th>2016-01-06</th>\n",
       "      <td>29.19</td>\n",
       "      <td>NaN</td>\n",
       "      <td>63.27</td>\n",
       "      <td>8.29</td>\n",
       "      <td>90.41</td>\n",
       "      <td>172.68</td>\n",
       "      <td>41691.19</td>\n",
       "    </tr>\n",
       "    <tr>\n",
       "      <th>2016-01-07</th>\n",
       "      <td>28.52</td>\n",
       "      <td>NaN</td>\n",
       "      <td>62.78</td>\n",
       "      <td>7.64</td>\n",
       "      <td>90.23</td>\n",
       "      <td>172.94</td>\n",
       "      <td>40661.57</td>\n",
       "    </tr>\n",
       "  </tbody>\n",
       "</table>\n",
       "</div>"
      ],
      "text/plain": [
       "            GFINBURO  CUERVO*  MEGACPO  CEMEXCPO  TLEVICPO  PE&OLES*    MEXBOL\n",
       "DATE                                                                          \n",
       "2016-01-01     31.10      NaN    64.19      8.72     94.34    177.22  42977.50\n",
       "2016-01-04     29.95      NaN    64.45      8.43     92.62    175.90  42113.70\n",
       "2016-01-05     29.60      NaN    63.16      8.31     91.89    176.45  42041.68\n",
       "2016-01-06     29.19      NaN    63.27      8.29     90.41    172.68  41691.19\n",
       "2016-01-07     28.52      NaN    62.78      7.64     90.23    172.94  40661.57"
      ]
     },
     "execution_count": 5,
     "metadata": {},
     "output_type": "execute_result"
    }
   ],
   "source": [
    "# Cargamos la base de acciones y elegimos aleatoriamente 7 acciones de esta misma base\n",
    "market = pd.read_excel(\"Prueba.xlsx\", index_col=0)\n",
    "market.columns = [c.replace(\" MF Equity\", \"\").replace(\" INDEX\", \"\") for c in market.columns]\n",
    "porfolio = market.sample(7, axis=1)\n",
    "porfolio.head()"
   ]
  },
  {
   "cell_type": "code",
   "execution_count": null,
   "metadata": {},
   "outputs": [],
   "source": [
    "# Para el modelo de rendimiento promedio constante "
   ]
  },
  {
   "cell_type": "markdown",
   "metadata": {},
   "source": [
    "6. Calcula el rendimiento esperado diario de cada ticker"
   ]
  },
  {
   "cell_type": "code",
   "execution_count": 58,
   "metadata": {},
   "outputs": [
    {
     "data": {
      "text/html": [
       "<div>\n",
       "<style scoped>\n",
       "    .dataframe tbody tr th:only-of-type {\n",
       "        vertical-align: middle;\n",
       "    }\n",
       "\n",
       "    .dataframe tbody tr th {\n",
       "        vertical-align: top;\n",
       "    }\n",
       "\n",
       "    .dataframe thead th {\n",
       "        text-align: right;\n",
       "    }\n",
       "</style>\n",
       "<table border=\"1\" class=\"dataframe\">\n",
       "  <thead>\n",
       "    <tr style=\"text-align: right;\">\n",
       "      <th></th>\n",
       "      <th>AAPL</th>\n",
       "      <th>MSFT</th>\n",
       "      <th>NKE</th>\n",
       "      <th>V</th>\n",
       "    </tr>\n",
       "    <tr>\n",
       "      <th>Date</th>\n",
       "      <th></th>\n",
       "      <th></th>\n",
       "      <th></th>\n",
       "      <th></th>\n",
       "    </tr>\n",
       "  </thead>\n",
       "  <tbody>\n",
       "    <tr>\n",
       "      <th>2013-09-03 00:00:00</th>\n",
       "      <td>NaN</td>\n",
       "      <td>NaN</td>\n",
       "      <td>NaN</td>\n",
       "      <td>NaN</td>\n",
       "    </tr>\n",
       "    <tr>\n",
       "      <th>2013-09-04 00:00:00</th>\n",
       "      <td>0.020695</td>\n",
       "      <td>-0.021487</td>\n",
       "      <td>0.013066</td>\n",
       "      <td>-0.004689</td>\n",
       "    </tr>\n",
       "    <tr>\n",
       "      <th>2013-09-05 00:00:00</th>\n",
       "      <td>-0.006860</td>\n",
       "      <td>0.001282</td>\n",
       "      <td>0.003838</td>\n",
       "      <td>0.000114</td>\n",
       "    </tr>\n",
       "    <tr>\n",
       "      <th>2013-09-06 00:00:00</th>\n",
       "      <td>0.005956</td>\n",
       "      <td>-0.002657</td>\n",
       "      <td>-0.006118</td>\n",
       "      <td>0.002611</td>\n",
       "    </tr>\n",
       "    <tr>\n",
       "      <th>2013-09-09 00:00:00</th>\n",
       "      <td>0.015957</td>\n",
       "      <td>0.016147</td>\n",
       "      <td>0.006464</td>\n",
       "      <td>0.010641</td>\n",
       "    </tr>\n",
       "  </tbody>\n",
       "</table>\n",
       "</div>"
      ],
      "text/plain": [
       "                         AAPL      MSFT       NKE         V\n",
       "Date                                                       \n",
       "2013-09-03 00:00:00       NaN       NaN       NaN       NaN\n",
       "2013-09-04 00:00:00  0.020695 -0.021487  0.013066 -0.004689\n",
       "2013-09-05 00:00:00 -0.006860  0.001282  0.003838  0.000114\n",
       "2013-09-06 00:00:00  0.005956 -0.002657 -0.006118  0.002611\n",
       "2013-09-09 00:00:00  0.015957  0.016147  0.006464  0.010641"
      ]
     },
     "execution_count": 58,
     "metadata": {},
     "output_type": "execute_result"
    }
   ],
   "source": [
    "# Hacemos el cambio a terminos porcentuales\n",
    "rend = df.pct_change()\n",
    "rend.head()"
   ]
  },
  {
   "cell_type": "code",
   "execution_count": 59,
   "metadata": {},
   "outputs": [
    {
     "data": {
      "text/plain": [
       "AAPL    0.000939\n",
       "MSFT    0.001093\n",
       "NKE     0.000766\n",
       "V       0.000956\n",
       "dtype: float64"
      ]
     },
     "execution_count": 59,
     "metadata": {},
     "output_type": "execute_result"
    }
   ],
   "source": [
    "# Rendimiento medio esperado diario para cada activo\n",
    "r_diario = rend.mean()\n",
    "r_diario"
   ]
  },
  {
   "cell_type": "markdown",
   "metadata": {},
   "source": [
    "---------------------------------------------------------------------------------------------------"
   ]
  },
  {
   "cell_type": "markdown",
   "metadata": {},
   "source": [
    "7. Calcula el rendimiento esperado anual de cada emisora"
   ]
  },
  {
   "cell_type": "code",
   "execution_count": 60,
   "metadata": {},
   "outputs": [
    {
     "data": {
      "text/plain": [
       "AAPL    0.236686\n",
       "MSFT    0.275530\n",
       "NKE     0.193032\n",
       "V       0.240858\n",
       "dtype: float64"
      ]
     },
     "execution_count": 60,
     "metadata": {},
     "output_type": "execute_result"
    }
   ],
   "source": [
    "# Necesitamos anualizar el rendimiento, ya que por el momento se encuentra de manera diaria\n",
    "\n",
    "# Rendimiento medio esperado anual para cada activo (considerando los 252 días hábiles del año)\n",
    "r_s = rend.mean()*252\n",
    "r_s"
   ]
  },
  {
   "cell_type": "markdown",
   "metadata": {},
   "source": [
    "---------------------------------------------------------------------------------------------------"
   ]
  },
  {
   "cell_type": "markdown",
   "metadata": {},
   "source": [
    "8. Dado los siguientes ponderadores, calcula el rendimiento esperado diario del portafolio"
   ]
  },
  {
   "cell_type": "code",
   "execution_count": 65,
   "metadata": {},
   "outputs": [],
   "source": [
    "from numpy.random import seed, random\n",
    "# Generación de ponderadores aleatorios\n",
    "seed(314)\n",
    "w = random(size=4) # Se cambio el parámetro a 4 ya que tenía un tamaño de 5 que no correspondía con el tamaño del dataframe df\n",
    "w = w / w.sum()"
   ]
  },
  {
   "cell_type": "code",
   "execution_count": 66,
   "metadata": {},
   "outputs": [
    {
     "data": {
      "text/plain": [
       "array([0.35904172, 0.23046918, 0.10379097, 0.30669813])"
      ]
     },
     "execution_count": 66,
     "metadata": {},
     "output_type": "execute_result"
    }
   ],
   "source": [
    "# Revisamos cuales son estos ponderadores\n",
    "w"
   ]
  },
  {
   "cell_type": "code",
   "execution_count": 67,
   "metadata": {},
   "outputs": [
    {
     "data": {
      "text/plain": [
       "0.0009618526239919247"
      ]
     },
     "execution_count": 67,
     "metadata": {},
     "output_type": "execute_result"
    }
   ],
   "source": [
    "# El rendimiento esperado de un activo es un promedio ponderado de los rendimientos en cada uno de sus escenarios\n",
    "# CASO DIARIO\n",
    "import numpy as np\n",
    "\n",
    "E_r = np.dot(w, r_diario)\n",
    "E_r"
   ]
  },
  {
   "cell_type": "markdown",
   "metadata": {},
   "source": [
    "---------------------------------------------------------------------------------------------------"
   ]
  },
  {
   "cell_type": "markdown",
   "metadata": {},
   "source": [
    "9. Dado ponderadores $w$, calcula el rendimiento esperado anual del portafolio"
   ]
  },
  {
   "cell_type": "code",
   "execution_count": 68,
   "metadata": {},
   "outputs": [
    {
     "data": {
      "text/plain": [
       "0.24238686124596504"
      ]
     },
     "execution_count": 68,
     "metadata": {},
     "output_type": "execute_result"
    }
   ],
   "source": [
    "# El rendimiento esperado de un activo es un promedio ponderado de los rendimientos en cada uno de sus escenarios\n",
    "# CASO ANUALIZADO\n",
    "\n",
    "E_r = np.dot(w, r_s)\n",
    "E_r"
   ]
  },
  {
   "cell_type": "code",
   "execution_count": null,
   "metadata": {},
   "outputs": [],
   "source": []
  },
  {
   "cell_type": "markdown",
   "metadata": {},
   "source": [
    "b. Modelo CAPM\n",
    "\n",
    "i. ¿Cuál es la beta de cada acción?\n",
    "\n",
    "ii. Clasifica las acciones en defensivas y agresiva"
   ]
  },
  {
   "cell_type": "code",
   "execution_count": null,
   "metadata": {},
   "outputs": [],
   "source": []
  },
  {
   "cell_type": "code",
   "execution_count": null,
   "metadata": {},
   "outputs": [],
   "source": []
  },
  {
   "cell_type": "code",
   "execution_count": null,
   "metadata": {},
   "outputs": [],
   "source": []
  },
  {
   "cell_type": "markdown",
   "metadata": {},
   "source": [
    "2. Matriz varianza-covarianza"
   ]
  },
  {
   "cell_type": "code",
   "execution_count": null,
   "metadata": {},
   "outputs": [],
   "source": []
  },
  {
   "cell_type": "code",
   "execution_count": null,
   "metadata": {},
   "outputs": [],
   "source": []
  },
  {
   "cell_type": "code",
   "execution_count": null,
   "metadata": {},
   "outputs": [],
   "source": []
  },
  {
   "cell_type": "markdown",
   "metadata": {},
   "source": [
    "Utilizando los rendimientos esperados bajo el modelo CAPM, construye:\n",
    "\n",
    "3. Frontera de carteras de mínima varianza y frontera eficiente / graficar\n",
    "\n",
    "4. Encuentra el portafolio riesgoso óptimo (maximiza el coeficiente de Sharpe)\n",
    "\n",
    "5. Elige los porcentajes a invertir en el portafolio riesgoso óptimo y el activo libre de riesgo "
   ]
  },
  {
   "cell_type": "code",
   "execution_count": null,
   "metadata": {},
   "outputs": [],
   "source": []
  },
  {
   "cell_type": "code",
   "execution_count": null,
   "metadata": {},
   "outputs": [],
   "source": []
  },
  {
   "cell_type": "code",
   "execution_count": null,
   "metadata": {},
   "outputs": [],
   "source": []
  },
  {
   "cell_type": "markdown",
   "metadata": {},
   "source": [
    "### Deep Learning:\n",
    "\n",
    "6. ¿En qué escenarios ocuparías una red neuronal?"
   ]
  },
  {
   "cell_type": "markdown",
   "metadata": {},
   "source": [
    "Cuando el tamaño del conjunto de datos con el que se está trabajando es muy grande o complejo como para poder ser tratado con un modelo de machine learning tradicional de manera eficiente. Usualmente también podríamos pensar en usar redes neuronales artificiales si contamos con la infraestructura adecuada y/o sí se está buscando una solución más adecuada o precisa para un problema de gran complejidad."
   ]
  },
  {
   "cell_type": "markdown",
   "metadata": {},
   "source": [
    "7. ¿En qué escenarios no ocuparías una red neuronal?"
   ]
  },
  {
   "cell_type": "markdown",
   "metadata": {},
   "source": [
    "Cuando el conjunto de datos no es tan grande y se puede abordar facilmente con un problema de machine learning tradicional. También si el problema en cuestión no requiere de gran poder de computo para poder hallar los parámetros del modelo, o inclusive si se busca ahorrar recursos y aún así obtener sin tanto esfuerzo un buen resultado para entrenamiento no supervisado y/o supervisado."
   ]
  },
  {
   "cell_type": "markdown",
   "metadata": {},
   "source": [
    "8. Menciona tres funciones de activación para una red neuronal feed-forward"
   ]
  },
  {
   "cell_type": "markdown",
   "metadata": {},
   "source": [
    "- Sigmoidal: Función con dominio en $ \\mathbb{R} $ e imagen en $ [0, 1] $\n",
    "\n",
    "- ReLU: Rectified Linear Unit\n",
    "\n",
    "- Tanh: Tangente Hiperbólica"
   ]
  },
  {
   "cell_type": "markdown",
   "metadata": {},
   "source": [
    "9. ¿Qué es el método de backpropagation?"
   ]
  },
  {
   "cell_type": "markdown",
   "metadata": {},
   "source": [
    "Es un algoritmo usado en los modelos de redes neuronales artificiales que hace uso del cálculo de gradientes para lograr el \"entrenamiento\" de la red, o en otras palabras, para lograr encontrar los parámetros que mejor ajusta los pesos de la red neuronal. Consiste en alimentar la red con valores y una vez que llegan a la capa final los parámetros se ajustan \"regresando\" los valores desde la capa de salida hacia las capas anteriores."
   ]
  },
  {
   "cell_type": "markdown",
   "metadata": {},
   "source": [
    "10. ¿En qué difiere una red neuronal feed-forward de una red neuronal convolucional?"
   ]
  },
  {
   "cell_type": "markdown",
   "metadata": {},
   "source": [
    "En que son en escencia dos tipos de redes neuronales que sirven para diferentes propositos. Mientras que la red feedforward es un tipo de red que solo se conecta con los nodos de la capa siguiente (y solo en esa dirección) además de que es un modelo ampliamente usado en términos generales, las redes convolucionales pueden también ser una red feedforward pero con la diferencia de que éstas manejan dentro de sus capas matrices de convolución y son usualmente utilizadas para poder clasificar o trabajar con imágenes."
   ]
  },
  {
   "cell_type": "code",
   "execution_count": null,
   "metadata": {},
   "outputs": [],
   "source": []
  },
  {
   "cell_type": "code",
   "execution_count": null,
   "metadata": {},
   "outputs": [],
   "source": []
  },
  {
   "cell_type": "code",
   "execution_count": null,
   "metadata": {},
   "outputs": [],
   "source": []
  },
  {
   "cell_type": "code",
   "execution_count": null,
   "metadata": {},
   "outputs": [],
   "source": []
  },
  {
   "cell_type": "code",
   "execution_count": null,
   "metadata": {},
   "outputs": [],
   "source": []
  },
  {
   "cell_type": "code",
   "execution_count": null,
   "metadata": {},
   "outputs": [],
   "source": []
  },
  {
   "cell_type": "code",
   "execution_count": null,
   "metadata": {},
   "outputs": [],
   "source": []
  },
  {
   "cell_type": "code",
   "execution_count": null,
   "metadata": {},
   "outputs": [],
   "source": []
  }
 ],
 "metadata": {
  "kernelspec": {
   "display_name": "Python 3",
   "language": "python",
   "name": "python3"
  },
  "language_info": {
   "codemirror_mode": {
    "name": "ipython",
    "version": 3
   },
   "file_extension": ".py",
   "mimetype": "text/x-python",
   "name": "python",
   "nbconvert_exporter": "python",
   "pygments_lexer": "ipython3",
   "version": "3.7.6"
  }
 },
 "nbformat": 4,
 "nbformat_minor": 4
}
